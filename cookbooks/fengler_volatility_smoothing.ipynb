{
 "cells": [
  {
   "cell_type": "markdown",
   "id": "9aa8f15d",
   "metadata": {},
   "source": [
    "# Implementing the vol-smoothing algorithm by Fengler[2009]\n",
    "\n",
    "## Spline Smoothing Setup\n",
    "\n",
    "Assume that we observe call option prices at strikes $a = u_0 < u_1 < u_2 < \\ldots < u_n < u_{n+1} = b$. The points $u_i$ are called knot-points. A function $g$ defined on $[a,b]$ is called a cubic spline, if two conditions are satisfied:\n",
    "\n",
    "(1) $g$ is a cubic polynomial.\n",
    "\n",
    "(2) On each of the sub-intervals $(a,u_1), (u_1, u_2), \\ldots, (u_n, b)$, $g\\in C^2[a,b]$, that is, its first and second derivatives are continuous at each $u_i$.\n",
    "\n",
    "Amongst many possible interpolants satisfying the above conditions, the smoothest possible curve that can be interpolates the given points, is the one that minimizes the roughness quantified by $\\int_a^b g''^2(u)du$. Such a spline is called the **natural cubic spline**(NCS). The total energy is minimum. \n",
    "\n",
    "Define the banded matrix $Q \\in \\mathbb{R}^{n \\times (n-2)}$ as:\n",
    "\n",
    "\\begin{equation*}\n",
    "Q=\\begin{bmatrix}\n",
    "\\frac{1}{h_{1}} &  &  &  &  & \\\\\n",
    "-\\frac{1}{h_{1}} -\\frac{1}{h_{2}} & \\frac{1}{h_{2}} &  &  &  & \\\\\n",
    "\\frac{1}{h_{2}} & -\\frac{1}{h_{2}} -\\frac{1}{h_{3}} & \\ddots  &  &  & \\\\\n",
    " & \\frac{1}{h_{3}} & \\ddots  & \\frac{1}{h_{j-1}} &  & \\\\\n",
    " &  & \\ddots  & -\\frac{1}{h_{j-1}} -\\frac{1}{h_{j}} & \\ddots  & \\\\\n",
    " &  &  & \\frac{1}{h_{j}} & \\ddots  & \\frac{1}{h_{n-2}}\\\\\n",
    " &  &  &  & \\ddots  & -\\frac{1}{h_{n-2}} -\\frac{1}{h_{n-1}}\\\\\n",
    " &  &  &  &  & \\frac{1}{h_{n-1}}\n",
    "\\end{bmatrix}\n",
    "\\end{equation*}\n",
    "\n",
    "and the symmetric banded matrix $R \\in \\mathbb{R}^{(n-2) \\times (n-2)}$ as:\n",
    "\n",
    "\n",
    "\\begin{equation*}\n",
    "R=\\begin{bmatrix}\n",
    "\\frac{1}{3}( h_{1} +h_{2}) & \\frac{1}{6} h_{2} &  &  &  &  & \\\\\n",
    "\\frac{1}{6} h_{2} & \\frac{1}{3}( h_{2} +h_{3}) & \\frac{1}{6} h_{3} &  &  &  & \\\\\n",
    " & \\frac{1}{6} h_{3} & \\frac{1}{3}( h_{3} +h_{4}) & \\frac{1}{6} h_{4} &  &  & \\\\\n",
    " &  & \\frac{1}{6} h_{4} & \\ddots  &  &  & \\\\\n",
    " &  &  &  & \\frac{1}{3}( h_{j-1} +h_{j}) & \\frac{1}{6} h_{j} & \\\\\n",
    " &  &  &  & \\frac{1}{6} h_{j} & \\ddots  & \\\\\n",
    " &  &  &  &  &  & \\frac{1}{3}( h_{n-2} +h_{n-1})\n",
    "\\end{bmatrix}\n",
    "\\end{equation*}\n",
    "\n",
    "We define $g(u)$ in the functional form:\n",
    "\n",
    "$$\n",
    "g(u) = d_i(u - u_i)^3 + c_i(u - u_i)^2 + b_i(u - u_i) + a_i, \\quad \\forall 0 \\leq i \\leq n, u_i \\leq u \\leq u_{i+1} \\tag{1}\n",
    "$$\n",
    "\n",
    "Thus, we have to derive the value of $4n + 4$ coefficients. \n",
    "\n",
    "$$\n",
    "g_i = g(u_{i+1}), \\quad \\gamma_i = g''(u_i) \\tag{2}\n",
    "$$\n",
    "\n",
    "Let $S_i(u)$ denote the piece in the $i$-th sub-interval. \n",
    "\n",
    "$$\n",
    "\\begin{align*}\n",
    "S_i(u) &=  d_i(u - u_i)^3 + c_i(u - u_i)^2 + b_i(u - u_i) + a_i\\\\\n",
    "S_i'(u) &= 3d_i(u - u_i)^2 + 2c_i(u - u_i) + b_i\\\\\n",
    "S_i''(u) &= 6d_i(u - u_i) + 2c_i\n",
    "\\end{align*}\n",
    "$$\n",
    "\n",
    "So, $S_{i+1}(u_{i+1}) = g_{i+1} = a_{i+1}$, $S_{i+1}'(u_{i+1}) = b_{i+1}$ and $S_{i+1}''(u_{i+1}) = g''(u_{i+1}) = \\gamma_{i+1} =  2c_{i+1}$. \n",
    "\n",
    "For an NCS, the first and second derivatives at the end-points are zero. Thus,\n",
    "\n",
    "$c_0 = d_0 = c_{n} = d_{n} = 0$\n",
    "\n",
    "Also, the quantity $(u_{i+1} - u_i)$ appears so often, that we let $h_i = u_{i+1} - u_i$ for $i=1,\\ldots,n$.\n",
    "\n",
    "Since we require the curve and its first and second derivatives to be continuous at the knot points, we require that:\n",
    "\n",
    "$$\n",
    "\\begin{align*}\n",
    "S_{i+1}(u_{i+1}) &= S_i(u_{i+1})\\\\\n",
    "S_{i+1}'(u_{i+1}) &= S_i'(u_{i+1})\\\\\n",
    "S_{i+1}''(u_{i+1}) &= S_i''(u_{i+1})\\\\\n",
    "\\end{align*}\n",
    "$$\n",
    "\n",
    "Consequently, we must have:\n",
    "\n",
    "$$\n",
    "a_{i+1} = d_i h_i^3 + c_i h_i^2 + b_i h_i + a_i \\tag{3}\n",
    "$$\n",
    "\n",
    "$$\n",
    "b_{i+1} = 3d_ih_i^2 + 2c_i h_i + b_i \\tag{4}\n",
    "$$\n",
    "\n",
    "$$\n",
    "2c_{i+1} = 6d_i h_i + 2c_i \\tag{5}\n",
    "$$\n",
    "\n",
    "for each $i=0,\\ldots,n$. Solving for $d_i$ in equation (5) and substituting this value in (3) and (4), we have:\n",
    "\n",
    "$$\n",
    "d_i = \\frac{2c_{i+1} - 2c_i}{6h_i} = \\frac{\\gamma_{i+1} - \\gamma_{i}}{6h_i}, \\quad \\forall i =1,\\ldots,n \\tag{7}\n",
    "$$"
   ]
  },
  {
   "cell_type": "markdown",
   "id": "632d5b02",
   "metadata": {},
   "source": [
    "$$\n",
    "\\begin{align*}\n",
    "g_{i+1} &= \\frac{2c_{i+1} - 2c_i}{6h_i} h_i^3 + c_i h_i^2 + b_i h_i + g_i\\\\\n",
    "&= \\frac{(2c_{i+1} - 2c_i)h_i^2}{6} + \\frac{6c_i}{6}h_i^2 + b_i h_i + g_i \\\\\n",
    "&= \\frac{4c_i + 2c_{i+1}}{6} h_i^2 + b_i h_i + g_i \\tag{8}\n",
    "\\end{align*}\n",
    "$$\n",
    "\n",
    "and\n",
    "\n",
    "$$\n",
    "\\begin{align*}\n",
    "b_{i+1} &= 3\\left(\\frac{2c_{i+1} - 2c_{i}}{6h_i}\\right)h_i^2 + 2c_i h_i + b_i\\\\\n",
    "&= (c_{i+1} - c_i)h_i + 2c_i h_i + b_i \\\\\n",
    "&= (c_{i+1} + c_i)h_i + b_i \\tag{9}\n",
    "\\end{align*}\n",
    "$$"
   ]
  },
  {
   "cell_type": "markdown",
   "id": "90f5a034",
   "metadata": {},
   "source": [
    "The final relationship is obtained by by solving equation (8) for $b_i$ :\n",
    "\n",
    "$$\n",
    "\\begin{align*}\n",
    "b_i = \\frac{1}{h_i}(g_{i+1} - g_i) - \\frac{4c_i + 2c_{i+1}}{6} h_i \\tag{9}\n",
    "\\end{align*}\n",
    "$$\n",
    "\n",
    "and then with a reduction of index for $b_{i-1}$ yields:\n",
    "\n",
    "$$\n",
    "b_{i-1} = \\frac{1}{h_{i-1}}(g_{i} - g_{i-1}) - \\frac{4c_{i-1} + 2c_{i}}{6} h_{i-1} \\tag{10}\n",
    "$$"
   ]
  },
  {
   "cell_type": "markdown",
   "id": "15c3be73",
   "metadata": {},
   "source": [
    "Substituting these values intom the equation derived from (9), with the index reduced from one, we get:\n",
    "\n",
    "$$\n",
    "\\begin{align*}\n",
    "b_i &= (c_i + c_{i-1})h_{i-1} + b_{i-1}\\\\\n",
    "\\frac{1}{h_i}(g_{i+1} - g_i) - \\frac{4c_i + 2c_{i+1}}{6} h_i &= (c_i + c_{i-1})h_{i-1} + \\frac{1}{h_{i-1}}(g_{i} - g_{i-1}) - \\frac{4c_{i-1} + 2c_{i}}{6} h_{i-1}\n",
    "\\end{align*}\n",
    "$$"
   ]
  },
  {
   "cell_type": "markdown",
   "id": "5e4572d5",
   "metadata": {},
   "source": [
    "We have:\n",
    "\n",
    "$$\n",
    "\\begin{align*}\n",
    "\\frac{1}{h_i}(g_{i+1} - g_i) - \\frac{1}{h_{i-1}}(g_i - g_{i-1}) &= \\frac{4c_i + 2c_{i+1}}{6}h_i + (c_i + c_{i-1})h_{i-1} - \\frac{4c_{i-1} + 2c_i}{6}h_{i-1}\\\\\n",
    "&= \\frac{4c_i + 2c_{i+1}}{6}h_i + \\frac{(6c_i + 6c_{i-1})}{6}h_{i-1} - \\frac{4c_{i-1} + 2c_i}{6}h_{i-1}\\\\\n",
    "&= \\frac{4c_i + 2c_{i+1}}{6}h_i + \\frac{(4c_i + 2c_{i-1})}{6}h_{i-1}\\\\\n",
    "&= \\frac{2c_{i-1}}{6}h_{i-1} + \\frac{4c_i}{6}(h_{i-1} + h_{i}) + \\frac{2c_{i+1}}{6}h_i \\tag{11}\n",
    "\\end{align*}\n",
    "$$"
   ]
  },
  {
   "cell_type": "markdown",
   "id": "aeea14c4",
   "metadata": {},
   "source": [
    "Substituting $2c_i = \\gamma_i$, we have:\n",
    "\n",
    "$$\n",
    "\\frac{1}{h_i}g_{i+1} - \\left(\\frac{1}{h_i} + \\frac{1}{h_{i-1}}\\right)g_i + \\frac{1}{h_{i-1}}g_{i-1} = \\frac{\\gamma_{i-1}}{6}h_{i-1} + \\frac{2\\gamma_i}{6}(h_{i-1} + h_{i}) + \\frac{\\gamma_{i+1}}{6}h_i \\quad \\forall i=2,\\ldots,n-1  \\tag{12}\n",
    "$$"
   ]
  },
  {
   "cell_type": "markdown",
   "id": "6590bfa1",
   "metadata": {},
   "source": [
    "In matrix form:\n",
    "\n",
    "$$\n",
    "\\begin{equation*}\n",
    "\\begin{bmatrix}\n",
    "1/h_{1} & -( 1/h_{1} +1/h_{2}) & 1/h_{2} &  &  & \\\\\n",
    " & 1/h_{2} & -( 1/h_{2} +1/h_{3}) & 1/h_{3} &  & \\\\\n",
    " &  &  &  &  & \\\\\n",
    " \\\\\n",
    " &  &  & 1/h_{n-2} & -( 1/h_{n-2} +1/h_{n-1}) & 1/h_{n-1}\n",
    "\\end{bmatrix}\\begin{bmatrix}\n",
    "g_{1}\\\\\n",
    "g_{2}\\\\\n",
    "\\vdots \\\\\n",
    "g_{n}\n",
    "\\end{bmatrix} =\\begin{bmatrix}\n",
    "\\frac{1}{3}( h_{1} +h_{2}) & \\frac{1}{6} h_{2}  \\\\\n",
    " \\frac{1}{6} h_{2} & \\frac{1}{3}( h_{2} +h_{3}) & \\frac{1}{6} h_{3}  \\\\\n",
    " & \\frac{1}{6} h_{3} & \\frac{1}{3}( h_{3} +h_{4}) & \\frac{1}{6} h_{4} \\\\\n",
    " & & &  &\\\\\n",
    " \\\\\n",
    " & & & & \\frac{1}{6} h_{n-2}& \\frac{1}{3}( h_{n-2} +h_{n-1}) \n",
    "\\end{bmatrix}\n",
    "\\begin{bmatrix}\n",
    "\\gamma_2 \\\\ \n",
    "\\vdots \\\\\n",
    "\\gamma_{n-1}\n",
    "\\end{bmatrix}\n",
    "\\end{equation*}\n",
    "$$\n",
    "\n",
    "or \n",
    "\n",
    "$$\n",
    "\\mathbf{Q}^T \\mathbf{g} = \\mathbf{R} \\mathbf{\\gamma}\n",
    "$$\n",
    "\n",
    "where $\\mathbf{Q}^T \\in \\mathbb{R}^{(n-2)\\times n}$, $\\mathbf{g} \\in \\mathbb{R}^n$, $\\mathbf{R} \\in \\mathbb{R}^{(n-2) \\times (n-2)}$, $\\mathbf{\\gamma} \\in \\mathbb{R}^{n-2} $. "
   ]
  },
  {
   "cell_type": "markdown",
   "id": "6deb05f1",
   "metadata": {},
   "source": [
    "The roughness term captured by the integral $\\int_{a}^{b} g''(u)^2 du$ is equal to the value of the quadratic form $\\mathbf{\\gamma}^T \\mathbf{R} \\mathbf{\\gamma}$. \n",
    "\n",
    "Here is a proof sketch.\n",
    "\n",
    "$$\n",
    "\n",
    "\\begin{equation*}\n",
    "\\begin{aligned}\n",
    "\\int _{a}^{b}\\{g''( u)\\}^{2} du & =\\int _{a}^{b}\\underbrace{g''( u)}_{u} \\cdot \\underbrace{g''( u) du}_{dv}\\\\\n",
    " & =g''( u) g'( u) |_{a}^{b} -\\int _{a}^{b} g'( u) g'''( u) du\\\\\n",
    " & \\left\\{\\text{ Integration by parts }\\right\\}\\\\\n",
    " & =g''( b) g'( b) \\ -\\ g''( a) g'( a) \\ -\\int _{a}^{b} g'( u) g'''( u) du\\\\\n",
    " & \\{g''( a) =g''( b) =0\\}\\\\\n",
    " & =-\\int _{a}^{b} g'( u) g'''( u) du\\\\\n",
    " & =-\\sum _{i=1}^{n-1} g'''\\left( u_{i}^{+}\\right)\\int _{u_{i}}^{u_{i+1}} g'( u) du\\\\\n",
    " & \\left\\{\\ g'''( u) \\ \\text{ is constant on all sub-intervals}\\right\\}\\\\\n",
    " & =\\sum _{i=1}^{n-1}\\frac{\\gamma _{i+1} -\\gamma _{i}}{h_{i}} \\cdot ( g_{i} -g_{i+1})\n",
    "\\end{aligned}\n",
    "\\end{equation*}\n",
    "$$\n",
    "\n",
    "Since $\\gamma_1 = \\gamma_n = 0$, we have:\n",
    "\n",
    "$$\n",
    "\\begin{equation*}\n",
    "\\begin{aligned}\n",
    "\\int _{a}^{b} g''( u)^{2} du & =\\sum _{i=1}^{n-1}\\frac{\\gamma _{i+1} -\\gamma _{i}}{h_{i}}\\left( g_{i} -g_{i+1}\\right)\\\\\n",
    " & =\\frac{\\gamma _{2}}{h_{1}}( g_{1} -g_{2}) +\\frac{\\gamma _{3} -\\gamma _{2}}{h_{2}}( g_{2} -g_{3}) +\\dotsc +\\frac{\\gamma _{n-1} -\\gamma _{n-2}}{h_{n-2}}( g_{n-2} +g_{n-1}) +\\frac{-\\gamma _{n-1}}{h_{n-1}}( g_{n-1} -g_{n})\\\\\n",
    " & =\\gamma _{2}\\left(\\frac{( g_{1} -g_{2})}{h_{1}} -\\frac{( g_{2} -g_{3})}{h_{2}}\\right) +\\gamma _{3}\\left(\\frac{( g_{2} -g_{3})}{h_{3}} -\\frac{( g_{3} -g_{4})}{h_{4}}\\right) +\\dotsc +\\gamma _{n-1}\\left(\\frac{( g_{n-2} -g_{n-1})}{h_{n-2}} -\\frac{( g_{n-1} -g_{n})}{h_{n-1}}\\right)\\\\\n",
    " & =\\sum _{j=2}^{n-1} \\gamma _{j}\\left(\\frac{( g_{j-1} -g_{j})}{h_{j-1}} -\\frac{( g_{j} -g_{j+1})}{h_{j}}\\right)\\\\\n",
    " & =\\mathbf{\\gamma Q}^{T}\\mathbf{g}\\\\\n",
    " & =\\mathbf{\\gamma R\\gamma }\n",
    "\\end{aligned}\n",
    "\\end{equation*}\n",
    "$$"
   ]
  },
  {
   "cell_type": "markdown",
   "id": "a1e20a8d",
   "metadata": {},
   "source": [
    "Fengler's proposes an approach based on cubic spline smoothing of option prices rather than interpolation. Therefore, the input tdata do not have to be arbitrage free. We try solve for the smoothest possible spline, such that the weighted sum of squares:\n",
    "\n",
    "$$\n",
    "\\sum_{i=1}^{n} w_i \\left[y_i - g(u_i)\\right]^2 + \\lambda \\mathbf{\\gamma}^T \\mathbf{R} \\mathbf{\\gamma}\n",
    "$$\n",
    "\n",
    "is minimized, subject to no-arbitrage constraints."
   ]
  },
  {
   "cell_type": "markdown",
   "id": "d1fcb2fb",
   "metadata": {},
   "source": [
    "The exact quadratic programming problem formulation is stated in Fengler's paper."
   ]
  },
  {
   "cell_type": "markdown",
   "id": "0e7aa797",
   "metadata": {},
   "source": [
    "## References\n",
    "- [Arbitrage-free smoothing for volatility surfaces](https://www.researchgate.net/publication/46528351_Arbitrage-free_smoothing_of_the_implied_volatility_surface), *Matthias Fengler*\n",
    "- [Non-parametric regression and generalized linear models](http://ndl.ethernet.edu.et/bitstream/123456789/39543/1/P.J.GREEN.pdf)"
   ]
  },
  {
   "cell_type": "markdown",
   "id": "98a57aba",
   "metadata": {},
   "source": [
    "## Initialize the market-object builder"
   ]
  },
  {
   "cell_type": "code",
   "execution_count": 1,
   "id": "fa116ebf",
   "metadata": {},
   "outputs": [
    {
     "data": {
      "text/plain": [
       "[TimeObjectId(_friendly_name=<MarketObjects.TIME: 'TIME'>, _time_info=<TimeInfo.TODAY: 2>),\n",
       " TimeObjectId(_friendly_name=<MarketObjects.TIME: 'TIME'>, _time_info=<TimeInfo.PV_DATE: 1>),\n",
       " OptionQuotesId(_friendly_name=<MarketObjects.OPTION_QUOTES: 'OPTION_QUOTES'>, _symbol='SPX')]"
      ]
     },
     "execution_count": 1,
     "metadata": {},
     "output_type": "execute_result"
    }
   ],
   "source": [
    "import datetime \n",
    "import numpy as np\n",
    "import pyarrow as pa\n",
    "import pyarrow.parquet as pq\n",
    "\n",
    "from py_volanalytics.models.mob.fengler_vol_surface_builder import FenglerVolSurfaceBuilder\n",
    "from py_volanalytics.types.enums import TimeInfo, MarketDataServiceId, OptionType, OptionQuoteConvention\n",
    "from py_volanalytics.market.time import Time\n",
    "from py_volanalytics.market.option_quotes import OptionQuotes, OptionQuote\n",
    "from py_volanalytics.market.forward_quotes import ForwardQuotes, ForwardQuote\n",
    "from py_volanalytics.valuation_framework.market_data import MarketDataService, MarketEnvironment\n",
    "\n",
    "# Create an instance of the FenglerVolSurfaceBuilder\n",
    "builder = FenglerVolSurfaceBuilder(symbol=\"SPX\")\n",
    "\n",
    "# Initialize the market object builder\n",
    "builder.initialize()\n",
    "\n",
    "# Query the builder for static dependencies\n",
    "builder.get_static_dependencies(initialized_state=None)\n",
    "\n",
    "# Query the builder for market dependencies\n",
    "market_deps = builder.get_market_dependencies(initialized_state=None, reference_data=None)\n",
    "market_deps"
   ]
  },
  {
   "cell_type": "markdown",
   "id": "7038c1da",
   "metadata": {},
   "source": [
    "## Prepare the market data environment"
   ]
  },
  {
   "cell_type": "code",
   "execution_count": 2,
   "id": "751b7a58",
   "metadata": {},
   "outputs": [],
   "source": [
    "# Construct time service\n",
    "pv_date = Time.create(time_info=TimeInfo.PV_DATE, date=datetime.date(2022,3,4))\n",
    "today = Time.create(time_info=TimeInfo.TODAY, date=datetime.date(2022,3,4))\n",
    "time_service = MarketDataService.create(service_id=MarketDataServiceId.TIME_SERVICE, market_objects=[pv_date, today])\n",
    "\n",
    "# Load the parquet file\n",
    "option_data = pq.read_table(\"SPX_2022_03_04_10_01_00.parquet\")\n",
    "option_data = option_data.filter(pa.compute.greater(option_data['F'], 0.))\n",
    "option_data = option_data.filter(pa.compute.less(option_data['T'], .5))\n",
    "\n",
    "strikes = np.unique(np.array(option_data[\"K\"]))\n",
    "expiries = np.unique(np.array(option_data[\"T\"]))\n",
    "impl_vols_bid = np.zeros([len(expiries),len(strikes)])\n",
    "impl_vols_ask = np.zeros([len(expiries),len(strikes)])\n",
    "impl_vols = np.zeros([len(expiries),len(strikes)])\n",
    "forwards = []\n",
    "interest_rates = []\n",
    "options = []\n",
    "i = 0\n",
    "for T in expiries:\n",
    "    option_data_single_expiry = option_data.filter(pa.compute.equal(option_data[\"T\"], T))\n",
    "    for K in strikes:\n",
    "        option_data_for_strike_maturity = option_data_single_expiry.filter(pa.compute.equal(option_data_single_expiry[\"K\"], K))\n",
    "        options.append(OptionQuote(option_type=OptionType.CALL_OPTION, strike_point=K, time_to_expiry=T, quote_convention=OptionQuoteConvention.IMPLIED_VOLATILITY, quote= option_data_for_strike_maturity[\"K\"][0].as_py()))\n",
    "\n",
    "\n",
    "    forwards.append(ForwardQuote(time_to_expiry=T, \n",
    "                           quote=option_data_for_strike_maturity[\"F\"][0].as_py(),))\n",
    "    interest_rates.append(option_data_single_expiry[\"R\"][0].as_py())"
   ]
  },
  {
   "cell_type": "code",
   "execution_count": 3,
   "id": "192fe145",
   "metadata": {},
   "outputs": [],
   "source": [
    "# Construct the OptionQuotes service\n",
    "option_quotes = OptionQuotes.create(symbol=\"SPX\", option_quotes=options)\n",
    "option_quotes_service = MarketDataService.create(service_id=MarketDataServiceId.OPTION_QUOTES_SERVICE, market_objects=[option_quotes])\n",
    "\n",
    "# Construct the ForwardQuotes service\n",
    "forward_quotes = ForwardQuotes.create(symbol=\"SPX\", forward_quotes=forwards)\n",
    "forward_quotes_service = MarketDataService.create(service_id=MarketDataServiceId.FORWARD_QUOTES_SERVICE, market_objects=[forward_quotes])\n",
    "\n",
    "# Construct the DiscountingCurve service\n"
   ]
  },
  {
   "cell_type": "code",
   "execution_count": 7,
   "id": "74176806",
   "metadata": {},
   "outputs": [
    {
     "data": {
      "text/plain": [
       "array([ 5, 12, 21, 32])"
      ]
     },
     "execution_count": 7,
     "metadata": {},
     "output_type": "execute_result"
    }
   ],
   "source": [
    "x = [1,2,3,4]\n",
    "y = [5,6,7,8]\n",
    "np.multiply(x,y)"
   ]
  },
  {
   "cell_type": "code",
   "execution_count": null,
   "id": "274c1cc9",
   "metadata": {},
   "outputs": [],
   "source": []
  }
 ],
 "metadata": {
  "kernelspec": {
   "display_name": ".venv",
   "language": "python",
   "name": "python3"
  },
  "language_info": {
   "codemirror_mode": {
    "name": "ipython",
    "version": 3
   },
   "file_extension": ".py",
   "mimetype": "text/x-python",
   "name": "python",
   "nbconvert_exporter": "python",
   "pygments_lexer": "ipython3",
   "version": "3.13.7"
  }
 },
 "nbformat": 4,
 "nbformat_minor": 5
}
