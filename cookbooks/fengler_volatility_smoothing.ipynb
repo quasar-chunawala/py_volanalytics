{
 "cells": [
  {
   "cell_type": "code",
   "execution_count": null,
   "id": "193383f0",
   "metadata": {},
   "outputs": [
    {
     "name": "stdout",
     "output_type": "stream",
     "text": [
      "[TimeObjectId(_time_info=<TimeInfo.TODAY: 2>), TimeObjectId(_time_info=<TimeInfo.PV_DATE: 1>), EuropeanVanillaOptionQuotesId(_underlying_symbol='AAPL')]\n"
     ]
    }
   ],
   "source": [
    "import datetime \n",
    "\n",
    "from py_volanalytics.models.mob.fengler_vol_surface_builder import FenglerVolSurfaceBuilder\n",
    "from py_volanalytics.types.enums import TimeInfo, MarketDataServiceId\n",
    "from py_volanalytics.market.time import Time, TimeObjectId\n",
    "from py_volanalytics.valuation_framework.market_data import MarketDataService, MarketEnvironment\n",
    "\n",
    "builder = FenglerVolSurfaceBuilder(symbol=\"AAPL\")\n",
    "builder.initialize()\n",
    "builder.get_static_dependencies(initialized_state=None)\n",
    "market_deps = builder.get_market_dependencies(initialized_state=None, reference_data=None)\n",
    "\n",
    "# Construct time service\n",
    "pv_date = Time(id=TimeObjectId(time_info=TimeInfo.PV_DATE), date=datetime.date(2025,3,31))\n",
    "today =  Time(id=TimeObjectId(time_info=TimeInfo.TODAY), date=datetime.date(2025,3,31))\n",
    "time_service = MarketDataService.create(MarketDataServiceId.TIME_SERVICE, [pv_date, today])\n",
    "\n",
    "# Construct market environment\n",
    "market_env = MarketEnvironment.create(services=[time_service])\n",
    "\n",
    "builder.calculate(initialized_state=None, reference_data=None, )"
   ]
  }
 ],
 "metadata": {
  "kernelspec": {
   "display_name": ".venv",
   "language": "python",
   "name": "python3"
  },
  "language_info": {
   "codemirror_mode": {
    "name": "ipython",
    "version": 3
   },
   "file_extension": ".py",
   "mimetype": "text/x-python",
   "name": "python",
   "nbconvert_exporter": "python",
   "pygments_lexer": "ipython3",
   "version": "3.13.7"
  }
 },
 "nbformat": 4,
 "nbformat_minor": 5
}
