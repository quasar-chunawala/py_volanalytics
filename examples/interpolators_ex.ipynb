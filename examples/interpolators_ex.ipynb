{
 "cells": [
  {
   "cell_type": "code",
   "execution_count": null,
   "metadata": {},
   "outputs": [
    {
     "ename": "ImportError",
     "evalue": "cannot import name 'LinearInterpolator' from 'py_volanalytics' (/home/quantdev/repo/py_volanalytics/src/py_volanalytics/__init__.py)",
     "output_type": "error",
     "traceback": [
      "\u001b[31m---------------------------------------------------------------------------\u001b[39m",
      "\u001b[31mImportError\u001b[39m                               Traceback (most recent call last)",
      "\u001b[36mCell\u001b[39m\u001b[36m \u001b[39m\u001b[32mIn[1]\u001b[39m\u001b[32m, line 2\u001b[39m\n\u001b[32m      1\u001b[39m \u001b[38;5;66;03m# Linear Interpolation\u001b[39;00m\n\u001b[32m----> \u001b[39m\u001b[32m2\u001b[39m \u001b[38;5;28;01mfrom\u001b[39;00m\u001b[38;5;250m \u001b[39m\u001b[34;01mpy_volanalytics\u001b[39;00m\u001b[38;5;250m \u001b[39m\u001b[38;5;28;01mimport\u001b[39;00m LinearInterpolator\n\u001b[32m      4\u001b[39m x_values = [\u001b[32m1\u001b[39m, \u001b[32m2\u001b[39m, \u001b[32m4\u001b[39m, ]\n\u001b[32m      5\u001b[39m y_values = [\u001b[32m2\u001b[39m, \u001b[32m8\u001b[39m, \u001b[32m4.5\u001b[39m, ]\n",
      "\u001b[31mImportError\u001b[39m: cannot import name 'LinearInterpolator' from 'py_volanalytics' (/home/quantdev/repo/py_volanalytics/src/py_volanalytics/__init__.py)"
     ]
    }
   ],
   "source": [
    "# Linear Interpolation\n",
    "from py_volanalytics.math.interpolator import LinearInterpolator\n",
    "\n",
    "x_values = [1, 2, 4, ]\n",
    "y_values = [2, 8, 4.5, ]\n",
    "interpolator = LinearInterpolator(\n",
    "    x_values = x_values,\n",
    "    y_values = y_values,\n",
    "    extrapolate=True\n",
    ")\n",
    "\n",
    "print([interpolator(x) for x in range(8)])"
   ]
  },
  {
   "cell_type": "code",
   "execution_count": 3,
   "metadata": {},
   "outputs": [
    {
     "ename": "NameError",
     "evalue": "name 'interpolator' is not defined",
     "output_type": "error",
     "traceback": [
      "\u001b[31m---------------------------------------------------------------------------\u001b[39m",
      "\u001b[31mNameError\u001b[39m                                 Traceback (most recent call last)",
      "\u001b[36mCell\u001b[39m\u001b[36m \u001b[39m\u001b[32mIn[3]\u001b[39m\u001b[32m, line 1\u001b[39m\n\u001b[32m----> \u001b[39m\u001b[32m1\u001b[39m \u001b[43minterpolator\u001b[49m.plot()\n",
      "\u001b[31mNameError\u001b[39m: name 'interpolator' is not defined"
     ]
    }
   ],
   "source": [
    "interpolator.plot()"
   ]
  }
 ],
 "metadata": {
  "kernelspec": {
   "display_name": ".venv",
   "language": "python",
   "name": "python3"
  },
  "language_info": {
   "codemirror_mode": {
    "name": "ipython",
    "version": 3
   },
   "file_extension": ".py",
   "mimetype": "text/x-python",
   "name": "python",
   "nbconvert_exporter": "python",
   "pygments_lexer": "ipython3",
   "version": "3.12.0"
  }
 },
 "nbformat": 4,
 "nbformat_minor": 2
}
